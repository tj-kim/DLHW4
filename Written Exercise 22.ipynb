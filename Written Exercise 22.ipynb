{
 "cells": [
  {
   "cell_type": "markdown",
   "metadata": {},
   "source": [
    "# Written Exercise 22.\n",
    "\n",
    "- For any instance i of class c of the training set, find the top 10 most similar training instance as measured by input space similarity or feature similarity.\n",
    "\n",
    "- If n of the 10 are also class c, say this instance has n/10 class consistency in the input space or feature space.\n",
    "\n",
    "- Take the average of the class consistency over a training subset.\n",
    "\n",
    "- Compare the result for the two similarity measures."
   ]
  },
  {
   "cell_type": "code",
   "execution_count": 70,
   "metadata": {},
   "outputs": [],
   "source": [
    "import hw4_part3\n",
    "import numpy as np\n",
    "\n",
    "import hw4_part1\n",
    "import hw4_part2\n",
    "\n",
    "import hw4_utils\n",
    "import hw4_mnist\n",
    "\n",
    "# Load Data\n",
    "mnist_data = hw4_mnist.load_data()\n",
    "train_X = mnist_data.train.X\n",
    "train_Y = mnist_data.train.Y"
   ]
  },
  {
   "cell_type": "markdown",
   "metadata": {},
   "source": [
    "### Loop through values and find 100 similarities"
   ]
  },
  {
   "cell_type": "code",
   "execution_count": 22,
   "metadata": {},
   "outputs": [],
   "source": [
    "m = hw4_part3.MNISTModelRegular()\n",
    "m.load()"
   ]
  },
  {
   "cell_type": "code",
   "execution_count": 80,
   "metadata": {},
   "outputs": [],
   "source": [
    "integer = np.arange(10)\n",
    "sample_size = 10\n",
    "n = 10 # number of maximums to take\n",
    "\n",
    "input_space_sim = []\n",
    "feature_space_sim = []\n",
    "\n",
    "flattened_X = np.squeeze(\n",
    "    np.reshape(train_X,[train_X.shape[0],train_X.shape[1]*train_X.shape[2],train_X.shape[3]])\n",
    "    ,axis = 2)\n",
    "\n",
    "# Loop through different integers\n",
    "for i in integer:\n",
    "    idx = np.where(train_Y==i)[0]\n",
    "    \n",
    "    # Loop through different instance of same integer\n",
    "    for j in np.arange(sample_size):\n",
    "        interest_X = np.expand_dims(flattened_X[idx[j]],axis=0)\n",
    "        \n",
    "        # Find similarity at input space, take 10 maximum values\n",
    "        temp_input_sim = np.squeeze(np.moveaxis(np.matmul(interest_X, flattened_X.T), 0, 1),axis=1)\n",
    "        max_ind = (-temp_input_sim).argsort()[:n]\n",
    "        \n",
    "        count = 0\n",
    "        \n",
    "        for k in max_ind:\n",
    "            if i == train_Y[k]:\n",
    "                count += 1/10\n",
    "        \n",
    "        input_space_sim += [count]\n",
    "        \n",
    "        # Find similarity at feature space, take 10 maximum values\n",
    "        rep = hw4_part3.Representer(m, np.expand_dims(train_X[idx[j]],axis=0)\n",
    "                                    ,np.expand_dims(train_Y[idx[j]],axis=0))\n",
    "        temp_input_sim = rep.similarity(train_X)\n",
    "        \n",
    "        max_ind = (-temp_input_sim).argsort()[:n]\n",
    "        \n",
    "        count = 0\n",
    "        \n",
    "        for k in max_ind:\n",
    "            if i == train_Y[k]:\n",
    "                count += 1/10\n",
    "        \n",
    "        feature_space_sim += [count]"
   ]
  },
  {
   "cell_type": "code",
   "execution_count": 81,
   "metadata": {},
   "outputs": [
    {
     "name": "stdout",
     "output_type": "stream",
     "text": [
      "input 0.6569999999999999\n",
      "feature 0.09999999999999998\n"
     ]
    }
   ],
   "source": [
    "print(\"input\",np.mean(input_space_sim))\n",
    "print(\"feature\",np.mean(feature_space_sim))"
   ]
  },
  {
   "cell_type": "code",
   "execution_count": null,
   "metadata": {},
   "outputs": [],
   "source": []
  }
 ],
 "metadata": {
  "kernelspec": {
   "display_name": "Python 3",
   "language": "python",
   "name": "python3"
  },
  "language_info": {
   "codemirror_mode": {
    "name": "ipython",
    "version": 3
   },
   "file_extension": ".py",
   "mimetype": "text/x-python",
   "name": "python",
   "nbconvert_exporter": "python",
   "pygments_lexer": "ipython3",
   "version": "3.7.6"
  }
 },
 "nbformat": 4,
 "nbformat_minor": 4
}
